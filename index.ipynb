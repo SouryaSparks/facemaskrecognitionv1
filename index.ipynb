{
 "cells": [
  {
   "cell_type": "code",
   "execution_count": 4,
   "metadata": {},
   "outputs": [],
   "source": [
    "# Import Libraries\n",
    "\n",
    "import numpy\n",
    "import cv2\n",
    "import tensorflow as tf \n",
    "\n",
    "# Import Neural Net & Data Libraries\n",
    "\n",
    "from keras.models import Sequential, load_model\n",
    "from keras.layers import Conv2D, MaxPooling2D, Dropout, Dense, Flatten, BatchNormalization\n",
    "import keras.utils\n",
    "\n"
   ]
  },
  {
   "cell_type": "code",
   "execution_count": 8,
   "metadata": {},
   "outputs": [
    {
     "name": "stdout",
     "output_type": "stream",
     "text": [
      "Found 440 files belonging to 2 classes.\n"
     ]
    }
   ],
   "source": [
    "# Load Data\n",
    "\n",
    "data = keras.utils.image_dataset_from_directory('data', labels='inferred', label_mode='int')\n",
    "scaled_data = data.map(lambda x,y: (x/255, y))\n"
   ]
  },
  {
   "cell_type": "code",
   "execution_count": 17,
   "metadata": {},
   "outputs": [],
   "source": [
    "# Assign Data\n",
    "\n",
    "train_len = int(0.6 * len(scaled_data))\n",
    "test_len = int(0.1 * len(scaled_data))\n",
    "val_len = int(0.3 * len(scaled_data))\n",
    "\n",
    "train = scaled_data.take(train_len)\n",
    "test = scaled_data.skip(train_len).take(test_len)\n",
    "valid = scaled_data.skip(train_len + test_len).take(val_len)"
   ]
  },
  {
   "cell_type": "code",
   "execution_count": null,
   "metadata": {},
   "outputs": [],
   "source": [
    "# Model Creation\n",
    "\n",
    "model = Sequential([\n",
    "\n",
    "\n",
    "\n",
    "    \n",
    "])"
   ]
  },
  {
   "cell_type": "code",
   "execution_count": null,
   "metadata": {},
   "outputs": [],
   "source": []
  }
 ],
 "metadata": {
  "kernelspec": {
   "display_name": "Python 3",
   "language": "python",
   "name": "python3"
  },
  "language_info": {
   "codemirror_mode": {
    "name": "ipython",
    "version": 3
   },
   "file_extension": ".py",
   "mimetype": "text/x-python",
   "name": "python",
   "nbconvert_exporter": "python",
   "pygments_lexer": "ipython3",
   "version": "3.11.7"
  }
 },
 "nbformat": 4,
 "nbformat_minor": 2
}
