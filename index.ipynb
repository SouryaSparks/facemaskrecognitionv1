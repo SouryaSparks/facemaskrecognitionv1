{
 "cells": [
  {
   "cell_type": "code",
   "execution_count": 16,
   "metadata": {},
   "outputs": [],
   "source": [
    "# Import Libraries\n",
    "\n",
    "import numpy\n",
    "import cv2\n",
    "import tensorflow as tf \n",
    "\n",
    "# Import Neural Net & Data Libraries\n",
    "\n",
    "from keras.models import Sequential, load_model\n",
    "from keras.layers import Conv2D, MaxPooling2D, Dropout, Dense, Flatten, BatchNormalization\n",
    "import keras.utils\n",
    "import keras.metrics\n",
    "\n"
   ]
  },
  {
   "cell_type": "code",
   "execution_count": 3,
   "metadata": {},
   "outputs": [
    {
     "name": "stdout",
     "output_type": "stream",
     "text": [
      "Found 440 files belonging to 2 classes.\n"
     ]
    }
   ],
   "source": [
    "# Load Data\n",
    "\n",
    "data = keras.utils.image_dataset_from_directory('data', labels='inferred', label_mode='int')\n",
    "scaled_data = data.map(lambda x,y: (x/255, y))\n"
   ]
  },
  {
   "cell_type": "code",
   "execution_count": 4,
   "metadata": {},
   "outputs": [],
   "source": [
    "# Assign Data\n",
    "\n",
    "train_len = int(0.6 * len(scaled_data))\n",
    "test_len = int(0.1 * len(scaled_data))\n",
    "val_len = int(0.3 * len(scaled_data))\n",
    "\n",
    "train = scaled_data.take(train_len)\n",
    "test = scaled_data.skip(train_len).take(test_len)\n",
    "valid = scaled_data.skip(train_len + test_len).take(val_len)"
   ]
  },
  {
   "cell_type": "code",
   "execution_count": 6,
   "metadata": {},
   "outputs": [
    {
     "name": "stdout",
     "output_type": "stream",
     "text": [
      "WARNING:tensorflow:From C:\\Users\\saiso\\AppData\\Local\\Packages\\PythonSoftwareFoundation.Python.3.10_qbz5n2kfra8p0\\LocalCache\\local-packages\\Python310\\site-packages\\keras\\src\\layers\\pooling\\max_pooling2d.py:161: The name tf.nn.max_pool is deprecated. Please use tf.nn.max_pool2d instead.\n",
      "\n"
     ]
    }
   ],
   "source": [
    "# Model Creation\n",
    "\n",
    "model = Sequential([\n",
    "\n",
    "Conv2D(16, (3,3),1, activation='relu', input_shape=(256,256,3)),\n",
    "MaxPooling2D(), \n",
    "Dropout(0.25),\n",
    "BatchNormalization(),\n",
    " \n",
    "Conv2D(32, (3,3),1, activation='relu'),\n",
    "MaxPooling2D(),\n",
    "Dropout(0.25),\n",
    "BatchNormalization(),\n",
    "\n",
    "Conv2D(16, (3,3),1, activation='relu'),\n",
    "MaxPooling2D(),\n",
    "Dropout(0.25),\n",
    "BatchNormalization(),\n",
    "\n",
    "Flatten(),\n",
    "\n",
    "Dense(256, activation='relu'),\n",
    "Dropout(0.5),\n",
    "BatchNormalization(),\n",
    "\n",
    "Dense(1, activation='sigmoid')\n",
    "\n",
    "\n",
    "\n",
    "\n",
    "\n",
    "\n",
    "\n",
    "    \n",
    "])"
   ]
  },
  {
   "cell_type": "code",
   "execution_count": 8,
   "metadata": {},
   "outputs": [
    {
     "name": "stdout",
     "output_type": "stream",
     "text": [
      "WARNING:tensorflow:From C:\\Users\\saiso\\AppData\\Local\\Packages\\PythonSoftwareFoundation.Python.3.10_qbz5n2kfra8p0\\LocalCache\\local-packages\\Python310\\site-packages\\keras\\src\\optimizers\\__init__.py:309: The name tf.train.Optimizer is deprecated. Please use tf.compat.v1.train.Optimizer instead.\n",
      "\n"
     ]
    }
   ],
   "source": [
    "model.compile(optimizer='adam', loss = tf.losses.BinaryCrossentropy(), metrics=['accuracy'])"
   ]
  },
  {
   "cell_type": "code",
   "execution_count": 9,
   "metadata": {},
   "outputs": [
    {
     "name": "stdout",
     "output_type": "stream",
     "text": [
      "Model: \"sequential_1\"\n",
      "_________________________________________________________________\n",
      " Layer (type)                Output Shape              Param #   \n",
      "=================================================================\n",
      " conv2d (Conv2D)             (None, 254, 254, 16)      448       \n",
      "                                                                 \n",
      " max_pooling2d (MaxPooling2  (None, 127, 127, 16)      0         \n",
      " D)                                                              \n",
      "                                                                 \n",
      " dropout (Dropout)           (None, 127, 127, 16)      0         \n",
      "                                                                 \n",
      " batch_normalization (Batch  (None, 127, 127, 16)      64        \n",
      " Normalization)                                                  \n",
      "                                                                 \n",
      " conv2d_1 (Conv2D)           (None, 125, 125, 32)      4640      \n",
      "                                                                 \n",
      " max_pooling2d_1 (MaxPoolin  (None, 62, 62, 32)        0         \n",
      " g2D)                                                            \n",
      "                                                                 \n",
      " dropout_1 (Dropout)         (None, 62, 62, 32)        0         \n",
      "                                                                 \n",
      " batch_normalization_1 (Bat  (None, 62, 62, 32)        128       \n",
      " chNormalization)                                                \n",
      "                                                                 \n",
      " conv2d_2 (Conv2D)           (None, 60, 60, 16)        4624      \n",
      "                                                                 \n",
      " max_pooling2d_2 (MaxPoolin  (None, 30, 30, 16)        0         \n",
      " g2D)                                                            \n",
      "                                                                 \n",
      " dropout_2 (Dropout)         (None, 30, 30, 16)        0         \n",
      "                                                                 \n",
      " batch_normalization_2 (Bat  (None, 30, 30, 16)        64        \n",
      " chNormalization)                                                \n",
      "                                                                 \n",
      " flatten (Flatten)           (None, 14400)             0         \n",
      "                                                                 \n",
      " dense (Dense)               (None, 256)               3686656   \n",
      "                                                                 \n",
      " dropout_3 (Dropout)         (None, 256)               0         \n",
      "                                                                 \n",
      " batch_normalization_3 (Bat  (None, 256)               1024      \n",
      " chNormalization)                                                \n",
      "                                                                 \n",
      " dense_1 (Dense)             (None, 1)                 257       \n",
      "                                                                 \n",
      "=================================================================\n",
      "Total params: 3697905 (14.11 MB)\n",
      "Trainable params: 3697265 (14.10 MB)\n",
      "Non-trainable params: 640 (2.50 KB)\n",
      "_________________________________________________________________\n"
     ]
    }
   ],
   "source": [
    "model.summary()"
   ]
  },
  {
   "cell_type": "code",
   "execution_count": 12,
   "metadata": {},
   "outputs": [
    {
     "name": "stdout",
     "output_type": "stream",
     "text": [
      "Epoch 1/20\n",
      "WARNING:tensorflow:From C:\\Users\\saiso\\AppData\\Local\\Packages\\PythonSoftwareFoundation.Python.3.10_qbz5n2kfra8p0\\LocalCache\\local-packages\\Python310\\site-packages\\keras\\src\\utils\\tf_utils.py:492: The name tf.ragged.RaggedTensorValue is deprecated. Please use tf.compat.v1.ragged.RaggedTensorValue instead.\n",
      "\n",
      "WARNING:tensorflow:From C:\\Users\\saiso\\AppData\\Local\\Packages\\PythonSoftwareFoundation.Python.3.10_qbz5n2kfra8p0\\LocalCache\\local-packages\\Python310\\site-packages\\keras\\src\\engine\\base_layer_utils.py:384: The name tf.executing_eagerly_outside_functions is deprecated. Please use tf.compat.v1.executing_eagerly_outside_functions instead.\n",
      "\n",
      "8/8 [==============================] - 12s 918ms/step - loss: 0.7258 - accuracy: 0.7070 - val_loss: 0.5836 - val_accuracy: 0.6797\n",
      "Epoch 2/20\n",
      "8/8 [==============================] - 8s 829ms/step - loss: 0.2421 - accuracy: 0.9062 - val_loss: 0.9678 - val_accuracy: 0.4297\n",
      "Epoch 3/20\n",
      "8/8 [==============================] - 8s 938ms/step - loss: 0.2106 - accuracy: 0.9180 - val_loss: 1.0265 - val_accuracy: 0.5234\n",
      "Epoch 4/20\n",
      "8/8 [==============================] - 8s 919ms/step - loss: 0.2052 - accuracy: 0.9141 - val_loss: 0.5848 - val_accuracy: 0.5625\n",
      "Epoch 5/20\n",
      "8/8 [==============================] - 8s 948ms/step - loss: 0.1654 - accuracy: 0.9414 - val_loss: 0.4804 - val_accuracy: 0.6875\n",
      "Epoch 6/20\n",
      "8/8 [==============================] - 8s 885ms/step - loss: 0.1444 - accuracy: 0.9375 - val_loss: 0.7861 - val_accuracy: 0.5234\n",
      "Epoch 7/20\n",
      "8/8 [==============================] - 8s 823ms/step - loss: 0.0889 - accuracy: 0.9766 - val_loss: 1.1705 - val_accuracy: 0.4453\n",
      "Epoch 8/20\n",
      "8/8 [==============================] - 7s 811ms/step - loss: 0.0982 - accuracy: 0.9805 - val_loss: 1.2912 - val_accuracy: 0.5156\n",
      "Epoch 9/20\n",
      "8/8 [==============================] - 7s 823ms/step - loss: 0.0905 - accuracy: 0.9766 - val_loss: 1.6891 - val_accuracy: 0.4297\n",
      "Epoch 10/20\n",
      "8/8 [==============================] - 7s 798ms/step - loss: 0.0657 - accuracy: 0.9805 - val_loss: 0.8759 - val_accuracy: 0.3906\n",
      "Epoch 11/20\n",
      "8/8 [==============================] - 7s 778ms/step - loss: 0.0453 - accuracy: 0.9922 - val_loss: 0.5415 - val_accuracy: 0.6328\n",
      "Epoch 12/20\n",
      "8/8 [==============================] - 7s 798ms/step - loss: 0.0782 - accuracy: 0.9727 - val_loss: 0.4910 - val_accuracy: 0.6953\n",
      "Epoch 13/20\n",
      "8/8 [==============================] - 7s 782ms/step - loss: 0.0502 - accuracy: 0.9766 - val_loss: 0.5222 - val_accuracy: 0.6562\n",
      "Epoch 14/20\n",
      "8/8 [==============================] - 7s 791ms/step - loss: 0.0598 - accuracy: 0.9805 - val_loss: 0.8686 - val_accuracy: 0.5000\n",
      "Epoch 15/20\n",
      "8/8 [==============================] - 7s 782ms/step - loss: 0.0453 - accuracy: 0.9844 - val_loss: 1.0616 - val_accuracy: 0.5000\n",
      "Epoch 16/20\n",
      "8/8 [==============================] - 7s 769ms/step - loss: 0.0323 - accuracy: 0.9922 - val_loss: 1.0453 - val_accuracy: 0.5156\n",
      "Epoch 17/20\n",
      "8/8 [==============================] - 7s 756ms/step - loss: 0.0408 - accuracy: 0.9922 - val_loss: 1.0814 - val_accuracy: 0.4609\n",
      "Epoch 18/20\n",
      "8/8 [==============================] - 8s 838ms/step - loss: 0.0222 - accuracy: 0.9961 - val_loss: 0.8048 - val_accuracy: 0.5391\n",
      "Epoch 19/20\n",
      "8/8 [==============================] - 7s 759ms/step - loss: 0.0213 - accuracy: 0.9961 - val_loss: 0.8482 - val_accuracy: 0.5391\n",
      "Epoch 20/20\n",
      "8/8 [==============================] - 7s 769ms/step - loss: 0.0233 - accuracy: 0.9961 - val_loss: 1.2101 - val_accuracy: 0.4922\n"
     ]
    },
    {
     "data": {
      "text/plain": [
       "<keras.src.callbacks.History at 0x285256d6d40>"
      ]
     },
     "execution_count": 12,
     "metadata": {},
     "output_type": "execute_result"
    }
   ],
   "source": [
    "log_directory = 'logs'\n",
    "tensorboard_callback = tf.keras.callbacks.TensorBoard(log_dir=log_directory)\n",
    "\n",
    "model.fit(train, epochs=20, validation_data=valid, callbacks=[tensorboard_callback])"
   ]
  },
  {
   "cell_type": "code",
   "execution_count": null,
   "metadata": {},
   "outputs": [],
   "source": [
    "result = \n",
    "accuracy = \n",
    "precision = \n"
   ]
  },
  {
   "cell_type": "code",
   "execution_count": null,
   "metadata": {},
   "outputs": [],
   "source": []
  }
 ],
 "metadata": {
  "kernelspec": {
   "display_name": "Python 3",
   "language": "python",
   "name": "python3"
  },
  "language_info": {
   "codemirror_mode": {
    "name": "ipython",
    "version": 3
   },
   "file_extension": ".py",
   "mimetype": "text/x-python",
   "name": "python",
   "nbconvert_exporter": "python",
   "pygments_lexer": "ipython3",
   "version": "3.10.11"
  }
 },
 "nbformat": 4,
 "nbformat_minor": 2
}
