{
 "cells": [
  {
   "cell_type": "code",
   "execution_count": 1,
   "metadata": {},
   "outputs": [
    {
     "name": "stdout",
     "output_type": "stream",
     "text": [
      "WARNING:tensorflow:From C:\\Users\\saiso\\AppData\\Local\\Packages\\PythonSoftwareFoundation.Python.3.11_qbz5n2kfra8p0\\LocalCache\\local-packages\\Python311\\site-packages\\keras\\src\\losses.py:2976: The name tf.losses.sparse_softmax_cross_entropy is deprecated. Please use tf.compat.v1.losses.sparse_softmax_cross_entropy instead.\n",
      "\n"
     ]
    }
   ],
   "source": [
    "# Import Libraries\n",
    "\n",
    "import numpy as np\n",
    "import matplotlib.pyplot as plt\n",
    "import cv2\n",
    "import tensorflow as tf \n",
    "\n",
    "# Import Neural Net & Data Libraries\n",
    "\n",
    "from keras.models import Sequential, load_model\n",
    "from keras.layers import Conv2D, MaxPooling2D, Dropout, Dense, Flatten, BatchNormalization\n",
    "import keras.utils\n",
    "import keras.metrics\n",
    "\n"
   ]
  },
  {
   "cell_type": "code",
   "execution_count": null,
   "metadata": {},
   "outputs": [],
   "source": []
  },
  {
   "cell_type": "code",
   "execution_count": 5,
   "metadata": {},
   "outputs": [
    {
     "name": "stdout",
     "output_type": "stream",
     "text": [
      "Found 12619 files belonging to 2 classes.\n"
     ]
    }
   ],
   "source": [
    "# Load Data\n",
    "data = keras.utils.image_dataset_from_directory('data', labels='inferred', label_mode='int')\n",
    "scaled_data = data.map(lambda x,y: (x/255, y))\n"
   ]
  },
  {
   "cell_type": "code",
   "execution_count": 11,
   "metadata": {},
   "outputs": [],
   "source": [
    "from keras.preprocessing.image import ImageDataGenerator\n",
    "import os\n",
    "# datagen = ImageDataGenerator(\n",
    "#     rotation_range=30, \n",
    "#     fill_mode='nearest'\n",
    "# )\n",
    "\n",
    "# aug_iter = datagen.flow(data[0][0], batch_size=1)\n",
    "# fig, ax = plt.subplots(nrows=1, ncols=3, figsize = (15,15))\n",
    "\n",
    "# for i in range(5):\n",
    "#     image = next(aug_iter)[0].astype(int)\n",
    "\n",
    "#     ax[i] = plt.imshow(image)\n",
    "#     plt.show()"
   ]
  },
  {
   "cell_type": "code",
   "execution_count": null,
   "metadata": {},
   "outputs": [],
   "source": [
    "# Assign Data\n",
    "\n",
    "test_len = int(0.1 * len(scaled_data))\n",
    "train_len = int(0.6 * len(scaled_data))\n",
    "val_len = int(0.3 * len(scaled_data))\n",
    "\n",
    "test = scaled_data.take(test_len)\n",
    "train = scaled_data.skip(test_len).take(train_len)\n",
    "valid = scaled_data.skip(train_len + test_len).take(val_len)"
   ]
  },
  {
   "cell_type": "code",
   "execution_count": null,
   "metadata": {},
   "outputs": [],
   "source": [
    "# Model Creation\n",
    "\n",
    "model = Sequential([\n",
    "\n",
    "Conv2D(64, (3,3),1, activation='relu', input_shape=(256,256,3)),\n",
    "MaxPooling2D(), \n",
    "Dropout(0.25),\n",
    " \n",
    "Conv2D(32, (3,3),1, activation='relu'),\n",
    "MaxPooling2D(),\n",
    "Dropout(0.25),\n",
    "\n",
    "Conv2D(64, (3,3),1, activation='relu'),\n",
    "MaxPooling2D(),\n",
    "Dropout(0.25),\n",
    "\n",
    "Flatten(),\n",
    "\n",
    "Dense(256, activation='relu'),\n",
    "Dropout(0.3),\n",
    "\n",
    "Dense(1, activation='sigmoid')\n",
    "\n",
    "\n",
    "\n",
    "\n",
    "\n",
    "\n",
    "\n",
    "    \n",
    "])"
   ]
  },
  {
   "cell_type": "code",
   "execution_count": null,
   "metadata": {},
   "outputs": [],
   "source": [
    "model.compile(optimizer='adam', loss = tf.losses.BinaryCrossentropy(), metrics=['accuracy'])"
   ]
  },
  {
   "cell_type": "code",
   "execution_count": null,
   "metadata": {},
   "outputs": [],
   "source": [
    "model.summary()"
   ]
  },
  {
   "cell_type": "code",
   "execution_count": null,
   "metadata": {},
   "outputs": [],
   "source": [
    "log_directory = 'logs'\n",
    "tensorboard_callback = tf.keras.callbacks.TensorBoard(log_dir=log_directory)\n",
    "\n",
    "model.fit(train, epochs=10, validation_data=valid, callbacks=[tensorboard_callback])"
   ]
  },
  {
   "cell_type": "code",
   "execution_count": null,
   "metadata": {},
   "outputs": [],
   "source": []
  },
  {
   "cell_type": "code",
   "execution_count": null,
   "metadata": {},
   "outputs": [],
   "source": [
    "recall = keras.metrics.Recall()\n",
    "accuracy = keras.metrics.BinaryAccuracy()\n",
    "precision = keras.metrics.Precision()\n",
    "\n",
    "for batch in test.as_numpy_iterator():\n",
    "    X, y = batch\n",
    "\n",
    "    yhat = model.predict(X)\n",
    "\n",
    "    recall.update_state(y, yhat)\n",
    "    accuracy.update_state(y, yhat)\n",
    "    precision.update_state(y, yhat)\n"
   ]
  },
  {
   "cell_type": "code",
   "execution_count": null,
   "metadata": {},
   "outputs": [],
   "source": [
    "print(f\"Recall:{recall.result().numpy()}, Accuracy:{accuracy.result().numpy()}, Precision:{precision.result().numpy()}\")"
   ]
  },
  {
   "cell_type": "code",
   "execution_count": null,
   "metadata": {},
   "outputs": [],
   "source": [
    "import os"
   ]
  },
  {
   "cell_type": "code",
   "execution_count": null,
   "metadata": {},
   "outputs": [],
   "source": [
    "# first_model = load_model(os.path.join('models','model.h5'))"
   ]
  },
  {
   "cell_type": "code",
   "execution_count": null,
   "metadata": {},
   "outputs": [],
   "source": [
    "image = cv2.imread(os.path.join('test_images','test4n.jpg'))\n",
    "resize = tf.image.resize(image, (256,256))\n",
    "\n",
    "plt.imshow(cv2.cvtColor(image, cv2.COLOR_BGR2RGB))\n",
    "plt.show()"
   ]
  },
  {
   "cell_type": "code",
   "execution_count": null,
   "metadata": {},
   "outputs": [],
   "source": [
    "yhat = model.predict(np.expand_dims((resize/255), 0))"
   ]
  },
  {
   "cell_type": "code",
   "execution_count": null,
   "metadata": {},
   "outputs": [],
   "source": [
    "if yhat >= 0.5:\n",
    "    print(\"This person is wearing a mask\")\n",
    "elif yhat < 0.5:\n",
    "    print(\"This person is not wearing a mask\")"
   ]
  },
  {
   "cell_type": "code",
   "execution_count": null,
   "metadata": {},
   "outputs": [],
   "source": [
    "yhat"
   ]
  },
  {
   "cell_type": "code",
   "execution_count": null,
   "metadata": {},
   "outputs": [],
   "source": [
    "model.save(os.path.join('models','model.h5'))"
   ]
  },
  {
   "cell_type": "code",
   "execution_count": null,
   "metadata": {},
   "outputs": [],
   "source": []
  },
  {
   "cell_type": "code",
   "execution_count": null,
   "metadata": {},
   "outputs": [],
   "source": []
  }
 ],
 "metadata": {
  "kernelspec": {
   "display_name": "Python 3",
   "language": "python",
   "name": "python3"
  },
  "language_info": {
   "codemirror_mode": {
    "name": "ipython",
    "version": 3
   },
   "file_extension": ".py",
   "mimetype": "text/x-python",
   "name": "python",
   "nbconvert_exporter": "python",
   "pygments_lexer": "ipython3",
   "version": "3.11.8"
  }
 },
 "nbformat": 4,
 "nbformat_minor": 2
}
